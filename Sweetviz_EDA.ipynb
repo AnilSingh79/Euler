{
 "cells": [
  {
   "cell_type": "markdown",
   "metadata": {},
   "source": [
    "## Data Exploration with SweetViz\n",
    "<b>\n",
    "    Author:<i> Dr. Anil P. Singh, saffron intelligence </i>\n",
    "</b>\n",
    "\n",
    "Reference : https://pypi.org/project/sweetviz/\n",
    "\n",
    "\n",
    "#### Target analysis\n",
    " * Relationship target value (SalePrice) to other features\n",
    "\n",
    "#### Visualize and compare\n",
    " * Distinct datasets (e.g. training vs test data)\n",
    " * Intra-set characteristics (e.g. old contstruction vs new construction)\n",
    "\n",
    "#### General Checklist\n",
    " * Type, unique values, missing values, duplicate rows, most frequent values\n",
    " \n",
    "#### Univariate Analysis\n",
    " * min/max/range, quartiles, mean, mode, standard deviation, sum, median absolute deviation, coefficient of variation, kurtosis, skewness\n",
    " \n",
    " \n",
    "#### Bivariate Analysus\n",
    " * numerical (Pearson's correlation), \n",
    " * categorical (uncertainty coefficient)\n",
    " * categorical-numerical (correlation ratio) \n",
    "\n",
    "#### Type inference\n",
    " * Automatically detects numerical, categorical and text features, with optional manual overrides\n"
   ]
  },
  {
   "cell_type": "code",
   "execution_count": 22,
   "metadata": {},
   "outputs": [
    {
     "name": "stdout",
     "output_type": "stream",
     "text": [
      "Number of features:  81\n",
      "Number of rows 1460\n"
     ]
    }
   ],
   "source": [
    "import pandas as pd\n",
    "import seaborn as sns\n",
    "from matplotlib import pyplot as plt\n",
    "plt.style.use('bmh')\n",
    "df = pd.read_csv('train.csv')\n",
    "df['Id'] = df['Id'].astype(str)\n",
    "num_rows = df.shape[0]\n",
    "num_features = df.shape[1]\n",
    "print(\"Number of features: \",num_features)\n",
    "print(\"Number of rows\",num_rows)"
   ]
  },
  {
   "cell_type": "markdown",
   "metadata": {},
   "source": [
    "#### Create the exploration report\n",
    "\n",
    "There are 3 major routines for us to use:\n",
    "* Analyzing a single dataframe\n",
    " * <i>analyze(..</i>\n",
    " * <i>compare(..</i>\n",
    " * <i>compare_intra(..</i>"
   ]
  },
  {
   "cell_type": "code",
   "execution_count": 2,
   "metadata": {},
   "outputs": [],
   "source": [
    "!pip install sweetviz;"
   ]
  },
  {
   "cell_type": "markdown",
   "metadata": {},
   "source": [
    "#### analyze()\n",
    "\n",
    "Here are the primitives for analyze :  \n",
    "<code>\n",
    "def analyze(source,target_feat=None,feat_cfg=None, pairwise_analysis = 'auto')\n",
    "</code>\n",
    "\n",
    "* source: Data Frame or a tuple containing the data frame\n",
    "* target_feat: Target feature. Only BOOLEAN and NUMERICAL targets are supported\n",
    "* feat_cfg: A FeatureConfig object to tell\n",
    " * Features to be skipped\n",
    " * Featues to be manually set to a data type\n",
    " \n",
    "This how we create a feat_cfg object:\n",
    "<code>\n",
    "   feature_config = sv.FeatureConfig(skip=\"StrtName\", force_text=[\"Id\"])\n",
    "</code>\n",
    "The arguments can either be a single string or list of strings. Parameters are skip, force_cat, force_num and force_text. The \"force_\" arguments override the built-in type detection.\n",
    "\n",
    "#### Running analyze with default arguments"
   ]
  },
  {
   "cell_type": "code",
   "execution_count": 23,
   "metadata": {},
   "outputs": [
    {
     "data": {
      "application/vnd.jupyter.widget-view+json": {
       "model_id": "894181f7de474d429aea7719862da41f",
       "version_major": 2,
       "version_minor": 0
      },
      "text/plain": [
       "HBox(children=(FloatProgress(value=0.0, layout=Layout(flex='2'), max=82.0), HTML(value='')), layout=Layout(dis…"
      ]
     },
     "metadata": {},
     "output_type": "display_data"
    },
    {
     "name": "stdout",
     "output_type": "stream",
     "text": [
      "\n",
      "Report SWEETVIZ_REPORT.html was generated! NOTEBOOK/COLAB USERS: the web browser MAY not pop up, regardless, the report IS saved in your notebook/colab files.\n"
     ]
    }
   ],
   "source": [
    "import sweetviz as sv\n",
    "house_report = sv.analyze(df)\n",
    "house_report.show_html()"
   ]
  },
  {
   "cell_type": "markdown",
   "metadata": {},
   "source": [
    "#### Running analyze with target feature"
   ]
  },
  {
   "cell_type": "code",
   "execution_count": 24,
   "metadata": {},
   "outputs": [
    {
     "data": {
      "application/vnd.jupyter.widget-view+json": {
       "model_id": "9e5c7db0280542b68d01fb3ac4fb6a9f",
       "version_major": 2,
       "version_minor": 0
      },
      "text/plain": [
       "HBox(children=(FloatProgress(value=0.0, layout=Layout(flex='2'), max=82.0), HTML(value='')), layout=Layout(dis…"
      ]
     },
     "metadata": {},
     "output_type": "display_data"
    },
    {
     "name": "stdout",
     "output_type": "stream",
     "text": [
      "\n",
      "Report SWEETVIZ_REPORT.html was generated! NOTEBOOK/COLAB USERS: the web browser MAY not pop up, regardless, the report IS saved in your notebook/colab files.\n"
     ]
    }
   ],
   "source": [
    "house_report = sv.analyze(df,target_feat='SalePrice')\n",
    "house_report.show_html()"
   ]
  },
  {
   "cell_type": "markdown",
   "metadata": {},
   "source": [
    "#### Running analyze with pair-wise analysis (categorical features)"
   ]
  },
  {
   "cell_type": "code",
   "execution_count": 16,
   "metadata": {},
   "outputs": [
    {
     "data": {
      "application/vnd.jupyter.widget-view+json": {
       "model_id": "e18eb4bcc69d4205a1dd70de5a6eac83",
       "version_major": 2,
       "version_minor": 0
      },
      "text/plain": [
       "HBox(children=(FloatProgress(value=0.0, layout=Layout(flex='2'), max=45.0), HTML(value='')), layout=Layout(dis…"
      ]
     },
     "metadata": {},
     "output_type": "display_data"
    },
    {
     "name": "stdout",
     "output_type": "stream",
     "text": [
      "\n",
      "Report SWEETVIZ_REPORT.html was generated! NOTEBOOK/COLAB USERS: the web browser MAY not pop up, regardless, the report IS saved in your notebook/colab files.\n"
     ]
    }
   ],
   "source": [
    "numeric_features = df.select_dtypes(include=['float64', 'int64']).columns\n",
    "numeric_features = list(numeric_features)+['Id']\n",
    "numeric_features.remove('SalePrice')\n",
    "\n",
    "#Removing numeric features\n",
    "feat_config = sv.FeatureConfig(skip=numeric_features)\n",
    "\n",
    "house_report = sv.analyze(df,feat_cfg=feat_config,pairwise_analysis='on')\n",
    "house_report.show_html()"
   ]
  },
  {
   "cell_type": "markdown",
   "metadata": {},
   "source": [
    "#### Running analyze with pair-wise analysis (numeric features)"
   ]
  },
  {
   "cell_type": "code",
   "execution_count": 18,
   "metadata": {},
   "outputs": [
    {
     "data": {
      "application/vnd.jupyter.widget-view+json": {
       "model_id": "029d7982987448dd90635531329108bc",
       "version_major": 2,
       "version_minor": 0
      },
      "text/plain": [
       "HBox(children=(FloatProgress(value=0.0, layout=Layout(flex='2'), max=45.0), HTML(value='')), layout=Layout(dis…"
      ]
     },
     "metadata": {},
     "output_type": "display_data"
    },
    {
     "name": "stdout",
     "output_type": "stream",
     "text": [
      "\n",
      "Report SWEETVIZ_REPORT.html was generated! NOTEBOOK/COLAB USERS: the web browser MAY not pop up, regardless, the report IS saved in your notebook/colab files.\n"
     ]
    }
   ],
   "source": [
    "cat_features = df.select_dtypes(include=['object']).columns\n",
    "cat_features = list(numeric_features)+['Id']\n",
    "\n",
    "\n",
    "#Removing numeric features\n",
    "feat_config = sv.FeatureConfig(skip=cat_features)\n",
    "\n",
    "house_report = sv.analyze(df,feat_cfg=feat_config,pairwise_analysis='on')\n",
    "house_report.show_html()"
   ]
  },
  {
   "cell_type": "markdown",
   "metadata": {},
   "source": [
    "#### Running analyze with full glory"
   ]
  },
  {
   "cell_type": "code",
   "execution_count": 19,
   "metadata": {},
   "outputs": [
    {
     "data": {
      "application/vnd.jupyter.widget-view+json": {
       "model_id": "cf8c2e530f9445f9b9f31f5c36931b34",
       "version_major": 2,
       "version_minor": 0
      },
      "text/plain": [
       "HBox(children=(FloatProgress(value=0.0, layout=Layout(flex='2'), max=81.0), HTML(value='')), layout=Layout(dis…"
      ]
     },
     "metadata": {},
     "output_type": "display_data"
    },
    {
     "name": "stdout",
     "output_type": "stream",
     "text": [
      "\n",
      "Report SWEETVIZ_REPORT.html was generated! NOTEBOOK/COLAB USERS: the web browser MAY not pop up, regardless, the report IS saved in your notebook/colab files.\n"
     ]
    }
   ],
   "source": [
    "#Removing numeric features\n",
    "feat_config = sv.FeatureConfig(skip='Id')\n",
    "\n",
    "house_report = sv.analyze(df,target_feat='SalePrice',feat_cfg=feat_config,pairwise_analysis='on')\n",
    "house_report.show_html()"
   ]
  },
  {
   "cell_type": "markdown",
   "metadata": {},
   "source": [
    "#### Running comparison between training and testing data"
   ]
  },
  {
   "cell_type": "code",
   "execution_count": 21,
   "metadata": {},
   "outputs": [
    {
     "data": {
      "application/vnd.jupyter.widget-view+json": {
       "model_id": "db461055f3724cfdbf0496d77a8a98f6",
       "version_major": 2,
       "version_minor": 0
      },
      "text/plain": [
       "HBox(children=(FloatProgress(value=0.0, layout=Layout(flex='2'), max=82.0), HTML(value='')), layout=Layout(dis…"
      ]
     },
     "metadata": {},
     "output_type": "display_data"
    },
    {
     "name": "stdout",
     "output_type": "stream",
     "text": [
      "\n",
      "Report compare.html was generated! NOTEBOOK/COLAB USERS: the web browser MAY not pop up, regardless, the report IS saved in your notebook/colab files.\n"
     ]
    }
   ],
   "source": [
    "#Reading the training set and doing a comparison\n",
    "df2 = pd.read_csv('test.csv')\n",
    "\n",
    "compare_report = sv.compare([df, 'Train'], [df2, 'Test'])\n",
    "compare_report.show_html('compare.html')"
   ]
  },
  {
   "cell_type": "code",
   "execution_count": null,
   "metadata": {},
   "outputs": [],
   "source": []
  }
 ],
 "metadata": {
  "kernelspec": {
   "display_name": "Python 3",
   "language": "python",
   "name": "python3"
  },
  "language_info": {
   "codemirror_mode": {
    "name": "ipython",
    "version": 3
   },
   "file_extension": ".py",
   "mimetype": "text/x-python",
   "name": "python",
   "nbconvert_exporter": "python",
   "pygments_lexer": "ipython3",
   "version": "3.8.3"
  }
 },
 "nbformat": 4,
 "nbformat_minor": 4
}
